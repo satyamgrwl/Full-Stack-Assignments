{
 "cells": [
  {
   "cell_type": "markdown",
   "metadata": {},
   "source": [
    "Q - 1) What are the difference between operators and values in the following? "
   ]
  },
  {
   "cell_type": "markdown",
   "metadata": {},
   "source": [
    "Ans.)\n",
    "\n",
    "Operators: - Operators in Python are somerthing with the help of which some operations are executed like if we want to have an average of some numbers or an addition. So, in these cases operators are used which ar einbuilt in Python. Ex: - +,-,/,* etc. \n",
    "\n",
    "Values:- Values are something which does not have any significance unless they are alloted to some variable or used somewhere else just writing these are useless and code won;'t Values, by the name we can say it is a value of something may it be anything like when we define a variable for some fucntionality then we have to give a value to it. Ex: - a=5 where 5 is a value.\n",
    "\n",
    "a.) * - Operator (As discussed above)\n",
    "\n",
    "b.) 'hello' - Value (As it have no significance unless defined under a variable)\n",
    "\n",
    "c.) -87.8 - Value (As it have no significance unless defined under a variable)\n",
    "\n",
    "d.) - - Operator (As discussed above)\n",
    "\n",
    "e.) / - Operator (As discussed above)\n",
    "\n",
    "f.) + - Operator (As discussed above)\n",
    "\n",
    "g.) 6 - Value (As it have no significance unless defined under a variable)"
   ]
  },
  {
   "cell_type": "markdown",
   "metadata": {},
   "source": [
    "Q - 2) what is the difference beteen string amd variable?"
   ]
  },
  {
   "cell_type": "markdown",
   "metadata": {},
   "source": [
    "Ans.) \n",
    "\n",
    "String: - String is a datatype used in python which can contain any thing inside quotes and are used for various purposes. \n",
    "Variable: - Variable is something where we store a value be it og any kind and used for further code. \n",
    "\n",
    "spam - Variable (As this is not a default function and in this a value can be stored else it does not have nay significance.)\n",
    "'spam' - String (As when anything is given in quotes then it is taken as a value and assigned to a variable.)"
   ]
  },
  {
   "cell_type": "markdown",
   "metadata": {},
   "source": [
    "Q - 3) Describe three data types? "
   ]
  },
  {
   "cell_type": "markdown",
   "metadata": {},
   "source": [
    "Ans.)\n",
    "\n",
    "a.) Integer: - Used as \"int\" while writing it in python. \n",
    "                Integer is one of a datatype where we give numbers to do some of the mathematical calculations and many other operations. \n",
    "                This datatype contains only whole numbers i.e. no decimal values.\n",
    "\n",
    "b.) Float: - Used as \"float\" while writing it in python. \n",
    "                Float is one of a datatype where we give numbers to do some of the mathematical calculations and many other operations.\n",
    "                This datatype contains decimal values as well.\n",
    "\n",
    "c.) Boolean: - Used as \"bool\" while writing it in python.     \n",
    "                Boolean contains two values only and is used for various operation like to compare evarious expressions they are are right or not.\n",
    "                Two values are: - True and False."
   ]
  },
  {
   "cell_type": "markdown",
   "metadata": {},
   "source": [
    "Q - 4) What is an expression made up of? What do all expressions do?"
   ]
  },
  {
   "cell_type": "markdown",
   "metadata": {},
   "source": [
    "Ans.) \n",
    "\n",
    "Expression: - Expression are combination of operators,constants,variables etc. Expression calculates something given in code. An expression can have one or more operands to perform some task, and zero or more operators to produce a value as per requirement.\n",
    "\n",
    "Expressions are made up of operators, iterables, identifiers etc."
   ]
  },
  {
   "cell_type": "markdown",
   "metadata": {},
   "source": [
    "Q - 5) This chapter introduced assignment statements, like spam = 10. What is the difference between an expression and a statement?"
   ]
  },
  {
   "cell_type": "markdown",
   "metadata": {},
   "source": [
    "Ans.)\n",
    "\n",
    "As discussed above expression is comething that evaluates something asked and statement are something that contains a command. \n",
    "\n",
    "Like when we want to print something then we write print() - so print is a statement.\n",
    "a = 5, it is a statement which contains a value \n",
    "b = a*5, it is a expression which ic calculating something by the help of statement. "
   ]
  },
  {
   "cell_type": "markdown",
   "metadata": {},
   "source": [
    "Q - 6) What does the variable bacon contain after the following code runs?\n",
    "\n",
    "bacon = 20\n",
    "\n",
    "bacon + 1"
   ]
  },
  {
   "cell_type": "markdown",
   "metadata": {},
   "source": [
    "Ans.) \n",
    "\n",
    "21. This the value which bacon contains. "
   ]
  },
  {
   "cell_type": "markdown",
   "metadata": {},
   "source": [
    "Q - 7) What should the following two expressions evaluate to?\n",
    "\n",
    "'spam' + 'spamspam'\n",
    "\n",
    "'spam' * 3"
   ]
  },
  {
   "cell_type": "markdown",
   "metadata": {},
   "source": [
    "Ans.)\n",
    "\n",
    "'spam' + 'spamspam' - 'spamspamspam': Both are string so adding string is like we are merging them. So , \n",
    "\n",
    "'spam' * 3 - 'spamspamspam': It is a string and when we use multiplication operator with string it simply add that string thos emnay times the value is given. "
   ]
  },
  {
   "cell_type": "markdown",
   "metadata": {},
   "source": [
    "Q - 8) Why is eggs a valid variable name while 100 is invalid?"
   ]
  },
  {
   "cell_type": "markdown",
   "metadata": {},
   "source": [
    "Ans.) \n",
    "\n",
    "Eggs is a valid variable while 100 is not because Eggs can contain a value and Eggs will allocate a memory but when we take 100 it is number so cannot be used, as Python does not recognise 100 as a name but just as an integer value."
   ]
  },
  {
   "cell_type": "markdown",
   "metadata": {},
   "source": [
    "Q - 9) What three functions can be used to get the integer, floating-point number, or string version of a value"
   ]
  },
  {
   "cell_type": "markdown",
   "metadata": {},
   "source": [
    "Ans.) \n",
    "\n",
    "To get integer part out we have to use: - int()\n",
    "\n",
    "To get float part out we have to use: - float()\n",
    "\n",
    "To get string part out we have to use: - str()"
   ]
  },
  {
   "cell_type": "markdown",
   "metadata": {},
   "source": [
    "Q - 10) Why does this expression cause an error? How can you fix it?\n",
    "\n",
    "'I have eaten ' + 99 + ' burritos.'"
   ]
  },
  {
   "cell_type": "markdown",
   "metadata": {},
   "source": [
    "Ans.)\n",
    "\n",
    "This expression will throw error because 'I have eaten' is a string and 99 is in integer and ' burritos. 'is in string. So, Python does not allow us to add values of miscellaneous datatype. \n",
    "\n",
    "To solve this error what we can do is as 99 is an integer so this can be coverted to string and then all strings can be added. Here we have the answer which will not throw an error. \n",
    "\n",
    "'I have eaten ' + str(99) + ' burritos.'"
   ]
  }
 ],
 "metadata": {
  "kernelspec": {
   "display_name": "Python 3",
   "language": "python",
   "name": "python3"
  },
  "language_info": {
   "codemirror_mode": {
    "name": "ipython",
    "version": 3
   },
   "file_extension": ".py",
   "mimetype": "text/x-python",
   "name": "python",
   "nbconvert_exporter": "python",
   "pygments_lexer": "ipython3",
   "version": "3.8.5"
  }
 },
 "nbformat": 4,
 "nbformat_minor": 4
}
